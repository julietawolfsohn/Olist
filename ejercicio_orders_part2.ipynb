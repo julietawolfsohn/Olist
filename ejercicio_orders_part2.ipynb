{
 "cells": [
  {
   "cell_type": "markdown",
   "metadata": {
    "tags": []
   },
   "source": [
    "# Orders - Multivariate Regression of  the `review_score`"
   ]
  },
  {
   "cell_type": "code",
   "execution_count": 43,
   "metadata": {},
   "outputs": [
    {
     "name": "stdout",
     "output_type": "stream",
     "text": [
      "The autoreload extension is already loaded. To reload it, use:\n",
      "  %reload_ext autoreload\n"
     ]
    }
   ],
   "source": [
    "%load_ext autoreload\n",
    "%autoreload 2"
   ]
  },
  {
   "cell_type": "code",
   "execution_count": 44,
   "metadata": {},
   "outputs": [],
   "source": [
    "# Import modules \n",
    "import pandas as pd\n",
    "import numpy as np \n",
    "import seaborn as sns\n",
    "import matplotlib.pyplot as plt"
   ]
  },
  {
   "cell_type": "markdown",
   "metadata": {},
   "source": [
    "Utilizar de dataset el resultado de la clase pasada (con la distancia)\n",
    "\n"
   ]
  },
  {
   "cell_type": "code",
   "execution_count": 45,
   "metadata": {},
   "outputs": [],
   "source": [
    "orders = pd.read_csv(\"data/tablon_primario.csv\")\n"
   ]
  },
  {
   "cell_type": "code",
   "execution_count": 46,
   "metadata": {},
   "outputs": [
    {
     "data": {
      "text/plain": [
       "Index(['Unnamed: 0', 'order_id', 'customer_id', 'order_status',\n",
       "       'order_purchase_timestamp', 'order_approved_at',\n",
       "       'order_delivered_carrier_date', 'order_delivered_customer_date',\n",
       "       'order_estimated_delivery_date', 'tiempo_de_espera',\n",
       "       'tiempo_de_espera_previsto', 'real_vs_esperado', 'review_id',\n",
       "       'review_score', 'review_comment_title', 'review_comment_message',\n",
       "       'review_creation_date', 'review_answer_timestamp', 'es_cinco_estrellas',\n",
       "       'es_una_estrella', 'count_order_items', 'seller_id', 'price',\n",
       "       'freight_value', 'distancia_a_la_orden'],\n",
       "      dtype='object')"
      ]
     },
     "execution_count": 46,
     "metadata": {},
     "output_type": "execute_result"
    }
   ],
   "source": [
    "orders.columns"
   ]
  },
  {
   "cell_type": "code",
   "execution_count": 47,
   "metadata": {},
   "outputs": [
    {
     "data": {
      "text/html": [
       "<div>\n",
       "<style scoped>\n",
       "    .dataframe tbody tr th:only-of-type {\n",
       "        vertical-align: middle;\n",
       "    }\n",
       "\n",
       "    .dataframe tbody tr th {\n",
       "        vertical-align: top;\n",
       "    }\n",
       "\n",
       "    .dataframe thead th {\n",
       "        text-align: right;\n",
       "    }\n",
       "</style>\n",
       "<table border=\"1\" class=\"dataframe\">\n",
       "  <thead>\n",
       "    <tr style=\"text-align: right;\">\n",
       "      <th></th>\n",
       "      <th>Unnamed: 0</th>\n",
       "      <th>order_id</th>\n",
       "      <th>customer_id</th>\n",
       "      <th>order_status</th>\n",
       "      <th>order_purchase_timestamp</th>\n",
       "      <th>order_approved_at</th>\n",
       "      <th>order_delivered_carrier_date</th>\n",
       "      <th>order_delivered_customer_date</th>\n",
       "      <th>order_estimated_delivery_date</th>\n",
       "      <th>tiempo_de_espera</th>\n",
       "      <th>...</th>\n",
       "      <th>review_comment_message</th>\n",
       "      <th>review_creation_date</th>\n",
       "      <th>review_answer_timestamp</th>\n",
       "      <th>es_cinco_estrellas</th>\n",
       "      <th>es_una_estrella</th>\n",
       "      <th>count_order_items</th>\n",
       "      <th>seller_id</th>\n",
       "      <th>price</th>\n",
       "      <th>freight_value</th>\n",
       "      <th>distancia_a_la_orden</th>\n",
       "    </tr>\n",
       "  </thead>\n",
       "  <tbody>\n",
       "    <tr>\n",
       "      <th>0</th>\n",
       "      <td>0</td>\n",
       "      <td>e481f51cbdc54678b7cc49136f2d6af7</td>\n",
       "      <td>9ef432eb6251297304e76186b10a928d</td>\n",
       "      <td>delivered</td>\n",
       "      <td>2017-10-02 10:56:33</td>\n",
       "      <td>2017-10-02 11:07:15</td>\n",
       "      <td>2017-10-04 19:55:00</td>\n",
       "      <td>2017-10-10 21:25:13</td>\n",
       "      <td>2017-10-18</td>\n",
       "      <td>8.436574</td>\n",
       "      <td>...</td>\n",
       "      <td>Não testei o produto ainda, mas ele veio corre...</td>\n",
       "      <td>2017-10-11 00:00:00</td>\n",
       "      <td>2017-10-12 03:43:48</td>\n",
       "      <td>0</td>\n",
       "      <td>0</td>\n",
       "      <td>1</td>\n",
       "      <td>1</td>\n",
       "      <td>29.99</td>\n",
       "      <td>8.72</td>\n",
       "      <td>18.063837</td>\n",
       "    </tr>\n",
       "    <tr>\n",
       "      <th>1</th>\n",
       "      <td>1</td>\n",
       "      <td>53cdb2fc8bc7dce0b6741e2150273451</td>\n",
       "      <td>b0830fb4747a6c6d20dea0b8c802d7ef</td>\n",
       "      <td>delivered</td>\n",
       "      <td>2018-07-24 20:41:37</td>\n",
       "      <td>2018-07-26 03:24:27</td>\n",
       "      <td>2018-07-26 14:31:00</td>\n",
       "      <td>2018-08-07 15:27:45</td>\n",
       "      <td>2018-08-13</td>\n",
       "      <td>13.782037</td>\n",
       "      <td>...</td>\n",
       "      <td>Muito bom o produto.</td>\n",
       "      <td>2018-08-08 00:00:00</td>\n",
       "      <td>2018-08-08 18:37:50</td>\n",
       "      <td>0</td>\n",
       "      <td>0</td>\n",
       "      <td>1</td>\n",
       "      <td>1</td>\n",
       "      <td>118.70</td>\n",
       "      <td>22.76</td>\n",
       "      <td>856.292580</td>\n",
       "    </tr>\n",
       "    <tr>\n",
       "      <th>2</th>\n",
       "      <td>2</td>\n",
       "      <td>47770eb9100c2d0c44946d9cf07ec65d</td>\n",
       "      <td>41ce2a54c0b03bf3443c3d931a367089</td>\n",
       "      <td>delivered</td>\n",
       "      <td>2018-08-08 08:38:49</td>\n",
       "      <td>2018-08-08 08:55:23</td>\n",
       "      <td>2018-08-08 13:50:00</td>\n",
       "      <td>2018-08-17 18:06:29</td>\n",
       "      <td>2018-09-04</td>\n",
       "      <td>9.394213</td>\n",
       "      <td>...</td>\n",
       "      <td>NaN</td>\n",
       "      <td>2018-08-18 00:00:00</td>\n",
       "      <td>2018-08-22 19:07:58</td>\n",
       "      <td>1</td>\n",
       "      <td>0</td>\n",
       "      <td>1</td>\n",
       "      <td>1</td>\n",
       "      <td>159.90</td>\n",
       "      <td>19.22</td>\n",
       "      <td>514.130333</td>\n",
       "    </tr>\n",
       "    <tr>\n",
       "      <th>3</th>\n",
       "      <td>3</td>\n",
       "      <td>949d5b44dbf5de918fe9c16f97b45f8a</td>\n",
       "      <td>f88197465ea7920adcdbec7375364d82</td>\n",
       "      <td>delivered</td>\n",
       "      <td>2017-11-18 19:28:06</td>\n",
       "      <td>2017-11-18 19:45:59</td>\n",
       "      <td>2017-11-22 13:39:59</td>\n",
       "      <td>2017-12-02 00:28:42</td>\n",
       "      <td>2017-12-15</td>\n",
       "      <td>13.208750</td>\n",
       "      <td>...</td>\n",
       "      <td>O produto foi exatamente o que eu esperava e e...</td>\n",
       "      <td>2017-12-03 00:00:00</td>\n",
       "      <td>2017-12-05 19:21:58</td>\n",
       "      <td>1</td>\n",
       "      <td>0</td>\n",
       "      <td>1</td>\n",
       "      <td>1</td>\n",
       "      <td>45.00</td>\n",
       "      <td>27.20</td>\n",
       "      <td>1822.800366</td>\n",
       "    </tr>\n",
       "    <tr>\n",
       "      <th>4</th>\n",
       "      <td>4</td>\n",
       "      <td>ad21c59c0840e6cb83a9ceb5573f8159</td>\n",
       "      <td>8ab97904e6daea8866dbdbc4fb7aad2c</td>\n",
       "      <td>delivered</td>\n",
       "      <td>2018-02-13 21:18:39</td>\n",
       "      <td>2018-02-13 22:20:29</td>\n",
       "      <td>2018-02-14 19:46:34</td>\n",
       "      <td>2018-02-16 18:17:02</td>\n",
       "      <td>2018-02-26</td>\n",
       "      <td>2.873877</td>\n",
       "      <td>...</td>\n",
       "      <td>NaN</td>\n",
       "      <td>2018-02-17 00:00:00</td>\n",
       "      <td>2018-02-18 13:02:51</td>\n",
       "      <td>1</td>\n",
       "      <td>0</td>\n",
       "      <td>1</td>\n",
       "      <td>1</td>\n",
       "      <td>19.90</td>\n",
       "      <td>8.72</td>\n",
       "      <td>30.174037</td>\n",
       "    </tr>\n",
       "    <tr>\n",
       "      <th>...</th>\n",
       "      <td>...</td>\n",
       "      <td>...</td>\n",
       "      <td>...</td>\n",
       "      <td>...</td>\n",
       "      <td>...</td>\n",
       "      <td>...</td>\n",
       "      <td>...</td>\n",
       "      <td>...</td>\n",
       "      <td>...</td>\n",
       "      <td>...</td>\n",
       "      <td>...</td>\n",
       "      <td>...</td>\n",
       "      <td>...</td>\n",
       "      <td>...</td>\n",
       "      <td>...</td>\n",
       "      <td>...</td>\n",
       "      <td>...</td>\n",
       "      <td>...</td>\n",
       "      <td>...</td>\n",
       "      <td>...</td>\n",
       "      <td>...</td>\n",
       "    </tr>\n",
       "    <tr>\n",
       "      <th>95875</th>\n",
       "      <td>95875</td>\n",
       "      <td>9c5dedf39a927c1b2549525ed64a053c</td>\n",
       "      <td>39bd1228ee8140590ac3aca26f2dfe00</td>\n",
       "      <td>delivered</td>\n",
       "      <td>2017-03-09 09:54:05</td>\n",
       "      <td>2017-03-09 09:54:05</td>\n",
       "      <td>2017-03-10 11:18:03</td>\n",
       "      <td>2017-03-17 15:08:01</td>\n",
       "      <td>2017-03-28</td>\n",
       "      <td>8.218009</td>\n",
       "      <td>...</td>\n",
       "      <td>NaN</td>\n",
       "      <td>2017-03-22 00:00:00</td>\n",
       "      <td>2017-03-23 11:02:08</td>\n",
       "      <td>1</td>\n",
       "      <td>0</td>\n",
       "      <td>1</td>\n",
       "      <td>1</td>\n",
       "      <td>72.00</td>\n",
       "      <td>13.08</td>\n",
       "      <td>69.481037</td>\n",
       "    </tr>\n",
       "    <tr>\n",
       "      <th>95876</th>\n",
       "      <td>95876</td>\n",
       "      <td>63943bddc261676b46f01ca7ac2f7bd8</td>\n",
       "      <td>1fca14ff2861355f6e5f14306ff977a7</td>\n",
       "      <td>delivered</td>\n",
       "      <td>2018-02-06 12:58:58</td>\n",
       "      <td>2018-02-06 13:10:37</td>\n",
       "      <td>2018-02-07 23:22:42</td>\n",
       "      <td>2018-02-28 17:37:56</td>\n",
       "      <td>2018-03-02</td>\n",
       "      <td>22.193727</td>\n",
       "      <td>...</td>\n",
       "      <td>So uma peça que veio rachado mas tudo bem rs</td>\n",
       "      <td>2018-03-01 00:00:00</td>\n",
       "      <td>2018-03-02 17:50:01</td>\n",
       "      <td>0</td>\n",
       "      <td>0</td>\n",
       "      <td>1</td>\n",
       "      <td>1</td>\n",
       "      <td>174.90</td>\n",
       "      <td>20.10</td>\n",
       "      <td>474.098245</td>\n",
       "    </tr>\n",
       "    <tr>\n",
       "      <th>95877</th>\n",
       "      <td>95877</td>\n",
       "      <td>83c1379a015df1e13d02aae0204711ab</td>\n",
       "      <td>1aa71eb042121263aafbe80c1b562c9c</td>\n",
       "      <td>delivered</td>\n",
       "      <td>2017-08-27 14:46:43</td>\n",
       "      <td>2017-08-27 15:04:16</td>\n",
       "      <td>2017-08-28 20:52:26</td>\n",
       "      <td>2017-09-21 11:24:17</td>\n",
       "      <td>2017-09-27</td>\n",
       "      <td>24.859421</td>\n",
       "      <td>...</td>\n",
       "      <td>Foi entregue antes do prazo.</td>\n",
       "      <td>2017-09-22 00:00:00</td>\n",
       "      <td>2017-09-22 23:10:57</td>\n",
       "      <td>1</td>\n",
       "      <td>0</td>\n",
       "      <td>1</td>\n",
       "      <td>1</td>\n",
       "      <td>205.99</td>\n",
       "      <td>65.02</td>\n",
       "      <td>968.051192</td>\n",
       "    </tr>\n",
       "    <tr>\n",
       "      <th>95878</th>\n",
       "      <td>95878</td>\n",
       "      <td>11c177c8e97725db2631073c19f07b62</td>\n",
       "      <td>b331b74b18dc79bcdf6532d51e1637c1</td>\n",
       "      <td>delivered</td>\n",
       "      <td>2018-01-08 21:28:27</td>\n",
       "      <td>2018-01-08 21:36:21</td>\n",
       "      <td>2018-01-12 15:35:03</td>\n",
       "      <td>2018-01-25 23:32:54</td>\n",
       "      <td>2018-02-15</td>\n",
       "      <td>17.086424</td>\n",
       "      <td>...</td>\n",
       "      <td>Foi entregue somente 1. Quero saber do outro p...</td>\n",
       "      <td>2018-01-26 00:00:00</td>\n",
       "      <td>2018-01-27 09:16:56</td>\n",
       "      <td>0</td>\n",
       "      <td>0</td>\n",
       "      <td>2</td>\n",
       "      <td>1</td>\n",
       "      <td>359.98</td>\n",
       "      <td>81.18</td>\n",
       "      <td>370.146853</td>\n",
       "    </tr>\n",
       "    <tr>\n",
       "      <th>95879</th>\n",
       "      <td>95879</td>\n",
       "      <td>66dea50a8b16d9b4dee7af250b4be1a5</td>\n",
       "      <td>edb027a75a1449115f6b43211ae02a24</td>\n",
       "      <td>delivered</td>\n",
       "      <td>2018-03-08 20:57:30</td>\n",
       "      <td>2018-03-09 11:20:28</td>\n",
       "      <td>2018-03-09 22:11:59</td>\n",
       "      <td>2018-03-16 13:08:30</td>\n",
       "      <td>2018-04-03</td>\n",
       "      <td>7.674306</td>\n",
       "      <td>...</td>\n",
       "      <td>NaN</td>\n",
       "      <td>2018-03-17 00:00:00</td>\n",
       "      <td>2018-03-17 16:33:31</td>\n",
       "      <td>1</td>\n",
       "      <td>0</td>\n",
       "      <td>1</td>\n",
       "      <td>1</td>\n",
       "      <td>68.50</td>\n",
       "      <td>18.36</td>\n",
       "      <td>631.817784</td>\n",
       "    </tr>\n",
       "  </tbody>\n",
       "</table>\n",
       "<p>95880 rows × 25 columns</p>\n",
       "</div>"
      ],
      "text/plain": [
       "       Unnamed: 0                          order_id  \\\n",
       "0               0  e481f51cbdc54678b7cc49136f2d6af7   \n",
       "1               1  53cdb2fc8bc7dce0b6741e2150273451   \n",
       "2               2  47770eb9100c2d0c44946d9cf07ec65d   \n",
       "3               3  949d5b44dbf5de918fe9c16f97b45f8a   \n",
       "4               4  ad21c59c0840e6cb83a9ceb5573f8159   \n",
       "...           ...                               ...   \n",
       "95875       95875  9c5dedf39a927c1b2549525ed64a053c   \n",
       "95876       95876  63943bddc261676b46f01ca7ac2f7bd8   \n",
       "95877       95877  83c1379a015df1e13d02aae0204711ab   \n",
       "95878       95878  11c177c8e97725db2631073c19f07b62   \n",
       "95879       95879  66dea50a8b16d9b4dee7af250b4be1a5   \n",
       "\n",
       "                            customer_id order_status order_purchase_timestamp  \\\n",
       "0      9ef432eb6251297304e76186b10a928d    delivered      2017-10-02 10:56:33   \n",
       "1      b0830fb4747a6c6d20dea0b8c802d7ef    delivered      2018-07-24 20:41:37   \n",
       "2      41ce2a54c0b03bf3443c3d931a367089    delivered      2018-08-08 08:38:49   \n",
       "3      f88197465ea7920adcdbec7375364d82    delivered      2017-11-18 19:28:06   \n",
       "4      8ab97904e6daea8866dbdbc4fb7aad2c    delivered      2018-02-13 21:18:39   \n",
       "...                                 ...          ...                      ...   \n",
       "95875  39bd1228ee8140590ac3aca26f2dfe00    delivered      2017-03-09 09:54:05   \n",
       "95876  1fca14ff2861355f6e5f14306ff977a7    delivered      2018-02-06 12:58:58   \n",
       "95877  1aa71eb042121263aafbe80c1b562c9c    delivered      2017-08-27 14:46:43   \n",
       "95878  b331b74b18dc79bcdf6532d51e1637c1    delivered      2018-01-08 21:28:27   \n",
       "95879  edb027a75a1449115f6b43211ae02a24    delivered      2018-03-08 20:57:30   \n",
       "\n",
       "         order_approved_at order_delivered_carrier_date  \\\n",
       "0      2017-10-02 11:07:15          2017-10-04 19:55:00   \n",
       "1      2018-07-26 03:24:27          2018-07-26 14:31:00   \n",
       "2      2018-08-08 08:55:23          2018-08-08 13:50:00   \n",
       "3      2017-11-18 19:45:59          2017-11-22 13:39:59   \n",
       "4      2018-02-13 22:20:29          2018-02-14 19:46:34   \n",
       "...                    ...                          ...   \n",
       "95875  2017-03-09 09:54:05          2017-03-10 11:18:03   \n",
       "95876  2018-02-06 13:10:37          2018-02-07 23:22:42   \n",
       "95877  2017-08-27 15:04:16          2017-08-28 20:52:26   \n",
       "95878  2018-01-08 21:36:21          2018-01-12 15:35:03   \n",
       "95879  2018-03-09 11:20:28          2018-03-09 22:11:59   \n",
       "\n",
       "      order_delivered_customer_date order_estimated_delivery_date  \\\n",
       "0               2017-10-10 21:25:13                    2017-10-18   \n",
       "1               2018-08-07 15:27:45                    2018-08-13   \n",
       "2               2018-08-17 18:06:29                    2018-09-04   \n",
       "3               2017-12-02 00:28:42                    2017-12-15   \n",
       "4               2018-02-16 18:17:02                    2018-02-26   \n",
       "...                             ...                           ...   \n",
       "95875           2017-03-17 15:08:01                    2017-03-28   \n",
       "95876           2018-02-28 17:37:56                    2018-03-02   \n",
       "95877           2017-09-21 11:24:17                    2017-09-27   \n",
       "95878           2018-01-25 23:32:54                    2018-02-15   \n",
       "95879           2018-03-16 13:08:30                    2018-04-03   \n",
       "\n",
       "       tiempo_de_espera  ...  \\\n",
       "0              8.436574  ...   \n",
       "1             13.782037  ...   \n",
       "2              9.394213  ...   \n",
       "3             13.208750  ...   \n",
       "4              2.873877  ...   \n",
       "...                 ...  ...   \n",
       "95875          8.218009  ...   \n",
       "95876         22.193727  ...   \n",
       "95877         24.859421  ...   \n",
       "95878         17.086424  ...   \n",
       "95879          7.674306  ...   \n",
       "\n",
       "                                  review_comment_message  \\\n",
       "0      Não testei o produto ainda, mas ele veio corre...   \n",
       "1                                   Muito bom o produto.   \n",
       "2                                                    NaN   \n",
       "3      O produto foi exatamente o que eu esperava e e...   \n",
       "4                                                    NaN   \n",
       "...                                                  ...   \n",
       "95875                                                NaN   \n",
       "95876       So uma peça que veio rachado mas tudo bem rs   \n",
       "95877                       Foi entregue antes do prazo.   \n",
       "95878  Foi entregue somente 1. Quero saber do outro p...   \n",
       "95879                                                NaN   \n",
       "\n",
       "       review_creation_date review_answer_timestamp  es_cinco_estrellas  \\\n",
       "0       2017-10-11 00:00:00     2017-10-12 03:43:48                   0   \n",
       "1       2018-08-08 00:00:00     2018-08-08 18:37:50                   0   \n",
       "2       2018-08-18 00:00:00     2018-08-22 19:07:58                   1   \n",
       "3       2017-12-03 00:00:00     2017-12-05 19:21:58                   1   \n",
       "4       2018-02-17 00:00:00     2018-02-18 13:02:51                   1   \n",
       "...                     ...                     ...                 ...   \n",
       "95875   2017-03-22 00:00:00     2017-03-23 11:02:08                   1   \n",
       "95876   2018-03-01 00:00:00     2018-03-02 17:50:01                   0   \n",
       "95877   2017-09-22 00:00:00     2017-09-22 23:10:57                   1   \n",
       "95878   2018-01-26 00:00:00     2018-01-27 09:16:56                   0   \n",
       "95879   2018-03-17 00:00:00     2018-03-17 16:33:31                   1   \n",
       "\n",
       "      es_una_estrella count_order_items seller_id   price  freight_value  \\\n",
       "0                   0                 1         1   29.99           8.72   \n",
       "1                   0                 1         1  118.70          22.76   \n",
       "2                   0                 1         1  159.90          19.22   \n",
       "3                   0                 1         1   45.00          27.20   \n",
       "4                   0                 1         1   19.90           8.72   \n",
       "...               ...               ...       ...     ...            ...   \n",
       "95875               0                 1         1   72.00          13.08   \n",
       "95876               0                 1         1  174.90          20.10   \n",
       "95877               0                 1         1  205.99          65.02   \n",
       "95878               0                 2         1  359.98          81.18   \n",
       "95879               0                 1         1   68.50          18.36   \n",
       "\n",
       "       distancia_a_la_orden  \n",
       "0                 18.063837  \n",
       "1                856.292580  \n",
       "2                514.130333  \n",
       "3               1822.800366  \n",
       "4                 30.174037  \n",
       "...                     ...  \n",
       "95875             69.481037  \n",
       "95876            474.098245  \n",
       "95877            968.051192  \n",
       "95878            370.146853  \n",
       "95879            631.817784  \n",
       "\n",
       "[95880 rows x 25 columns]"
      ]
     },
     "execution_count": 47,
     "metadata": {},
     "output_type": "execute_result"
    }
   ],
   "source": [
    "orders"
   ]
  },
  {
   "cell_type": "code",
   "execution_count": 48,
   "metadata": {},
   "outputs": [
    {
     "name": "stdout",
     "output_type": "stream",
     "text": [
      "<class 'pandas.core.frame.DataFrame'>\n",
      "RangeIndex: 95880 entries, 0 to 95879\n",
      "Data columns (total 25 columns):\n",
      " #   Column                         Non-Null Count  Dtype  \n",
      "---  ------                         --------------  -----  \n",
      " 0   Unnamed: 0                     95880 non-null  int64  \n",
      " 1   order_id                       95880 non-null  object \n",
      " 2   customer_id                    95880 non-null  object \n",
      " 3   order_status                   95880 non-null  object \n",
      " 4   order_purchase_timestamp       95880 non-null  object \n",
      " 5   order_approved_at              95866 non-null  object \n",
      " 6   order_delivered_carrier_date   95878 non-null  object \n",
      " 7   order_delivered_customer_date  95872 non-null  object \n",
      " 8   order_estimated_delivery_date  95880 non-null  object \n",
      " 9   tiempo_de_espera               95872 non-null  float64\n",
      " 10  tiempo_de_espera_previsto      95866 non-null  float64\n",
      " 11  real_vs_esperado               95858 non-null  float64\n",
      " 12  review_id                      95880 non-null  object \n",
      " 13  review_score                   95880 non-null  int64  \n",
      " 14  review_comment_title           11153 non-null  object \n",
      " 15  review_comment_message         38913 non-null  object \n",
      " 16  review_creation_date           95880 non-null  object \n",
      " 17  review_answer_timestamp        95880 non-null  object \n",
      " 18  es_cinco_estrellas             95880 non-null  int64  \n",
      " 19  es_una_estrella                95880 non-null  int64  \n",
      " 20  count_order_items              95880 non-null  int64  \n",
      " 21  seller_id                      95880 non-null  int64  \n",
      " 22  price                          95880 non-null  float64\n",
      " 23  freight_value                  95880 non-null  float64\n",
      " 24  distancia_a_la_orden           95880 non-null  float64\n",
      "dtypes: float64(6), int64(6), object(13)\n",
      "memory usage: 18.3+ MB\n"
     ]
    }
   ],
   "source": [
    "orders.info()"
   ]
  },
  {
   "cell_type": "markdown",
   "metadata": {},
   "source": [
    "Let's recall our simple analysis from yesterday's exercise: \n",
    "\n",
    "¿ Aqué esta correlacionada `review_score`?\n",
    " * Si dos variables tmb tienen correlación entre sí deberíamos analizarla por separado\n",
    "  *  Probar con `statsmodels`: `tiempo_de_espera` y `real_vs_esperado`"
   ]
  },
  {
   "cell_type": "code",
   "execution_count": 49,
   "metadata": {},
   "outputs": [
    {
     "data": {
      "text/plain": [
       "<Axes: >"
      ]
     },
     "execution_count": 49,
     "metadata": {},
     "output_type": "execute_result"
    },
    {
     "data": {
      "image/png": "[encoded data removed]",
      "text/plain": [
       "<Figure size 1000x1000 with 2 Axes>"
      ]
     },
     "metadata": {},
     "output_type": "display_data"
    }
   ],
   "source": [
    "numeric_columns = orders.select_dtypes(include=[np.number])  # Selecciona solo las columnas numéricas\n",
    "\n",
    "plt.figure(figsize = (10, 10))\n",
    "\n",
    "sns.heatmap(\n",
    "    numeric_columns.corr(), \n",
    "    cmap = 'coolwarm', \n",
    "    annot = True, \n",
    "    annot_kws = {\"size\": 10})"
   ]
  },
  {
   "cell_type": "markdown",
   "metadata": {},
   "source": [
    "## 1 - Regresión Univariada"
   ]
  },
  {
   "cell_type": "markdown",
   "metadata": {},
   "source": [
    "Usar [statsmodels](https://www.statsmodels.org/stable/generated/statsmodels.formula.api.ols.html) con `statsmodels.formula.api`\n",
    " - `model1`: una regresión ols de `review_score` sobre `tiempo_de_espera`\n",
    " - `model2`: una regresión ols de `review_score` sobre `real_vs_esperado`\n",
    "\n",
    "Para cada uno, imprima la tabla `summary` e interprete los resultados:\n",
    "- Entender cómo estos resultados coinciden con los del diagrama de seaborn\n",
    "- Interpretar `R-squared`, así como `coeficientes de regresión individuales`, `valores t`, `valores p` e `intervalos de confianza del 95 %`"
   ]
  },
  {
   "cell_type": "markdown",
   "metadata": {},
   "source": [
    "***Modelo 1***:"
   ]
  },
  {
   "cell_type": "code",
   "execution_count": 50,
   "metadata": {},
   "outputs": [
    {
     "name": "stdout",
     "output_type": "stream",
     "text": [
      "Requirement already satisfied: statsmodels in c:\\users\\lenovo\\anaconda3\\lib\\site-packages (0.14.0)\n",
      "Requirement already satisfied: numpy>=1.18 in c:\\users\\lenovo\\anaconda3\\lib\\site-packages (from statsmodels) (1.24.3)\n",
      "Requirement already satisfied: scipy!=1.9.2,>=1.4 in c:\\users\\lenovo\\anaconda3\\lib\\site-packages (from statsmodels) (1.11.1)\n",
      "Requirement already satisfied: pandas>=1.0 in c:\\users\\lenovo\\anaconda3\\lib\\site-packages (from statsmodels) (2.0.3)\n",
      "Requirement already satisfied: patsy>=0.5.2 in c:\\users\\lenovo\\anaconda3\\lib\\site-packages (from statsmodels) (0.5.3)\n",
      "Requirement already satisfied: packaging>=21.3 in c:\\users\\lenovo\\anaconda3\\lib\\site-packages (from statsmodels) (23.1)\n",
      "Requirement already satisfied: python-dateutil>=2.8.2 in c:\\users\\lenovo\\anaconda3\\lib\\site-packages (from pandas>=1.0->statsmodels) (2.8.2)\n",
      "Requirement already satisfied: pytz>=2020.1 in c:\\users\\lenovo\\anaconda3\\lib\\site-packages (from pandas>=1.0->statsmodels) (2023.3.post1)\n",
      "Requirement already satisfied: tzdata>=2022.1 in c:\\users\\lenovo\\anaconda3\\lib\\site-packages (from pandas>=1.0->statsmodels) (2023.3)\n",
      "Requirement already satisfied: six in c:\\users\\lenovo\\anaconda3\\lib\\site-packages (from patsy>=0.5.2->statsmodels) (1.16.0)\n",
      "Note: you may need to restart the kernel to use updated packages.\n"
     ]
    }
   ],
   "source": [
    "pip install statsmodels"
   ]
  },
  {
   "cell_type": "code",
   "execution_count": 51,
   "metadata": {},
   "outputs": [],
   "source": [
    "import statsmodels.formula.api as smf\n",
    "\n",
    "model1 = smf.ols(formula = \"review_score ~ tiempo_de_espera\", data = orders)\n",
    "model2 = smf.ols(formula = \"review_score ~ real_vs_esperado\", data = orders)"
   ]
  },
  {
   "cell_type": "code",
   "execution_count": 52,
   "metadata": {},
   "outputs": [],
   "source": [
    "model1 = model1.fit()\n"
   ]
  },
  {
   "cell_type": "code",
   "execution_count": 53,
   "metadata": {},
   "outputs": [],
   "source": [
    "model2 = model2.fit()\n"
   ]
  },
  {
   "cell_type": "code",
   "execution_count": 54,
   "metadata": {},
   "outputs": [
    {
     "data": {
      "text/html": [
       "<table class=\"simpletable\">\n",
       "<caption>OLS Regression Results</caption>\n",
       "<tr>\n",
       "  <th>Dep. Variable:</th>      <td>review_score</td>   <th>  R-squared:         </th>  <td>   0.112</td>  \n",
       "</tr>\n",
       "<tr>\n",
       "  <th>Model:</th>                   <td>OLS</td>       <th>  Adj. R-squared:    </th>  <td>   0.112</td>  \n",
       "</tr>\n",
       "<tr>\n",
       "  <th>Method:</th>             <td>Least Squares</td>  <th>  F-statistic:       </th>  <td>1.204e+04</td> \n",
       "</tr>\n",
       "<tr>\n",
       "  <th>Date:</th>             <td>Wed, 01 Nov 2023</td> <th>  Prob (F-statistic):</th>   <td>  0.00</td>   \n",
       "</tr>\n",
       "<tr>\n",
       "  <th>Time:</th>                 <td>23:01:10</td>     <th>  Log-Likelihood:    </th> <td>-1.5441e+05</td>\n",
       "</tr>\n",
       "<tr>\n",
       "  <th>No. Observations:</th>      <td> 95872</td>      <th>  AIC:               </th>  <td>3.088e+05</td> \n",
       "</tr>\n",
       "<tr>\n",
       "  <th>Df Residuals:</th>          <td> 95870</td>      <th>  BIC:               </th>  <td>3.089e+05</td> \n",
       "</tr>\n",
       "<tr>\n",
       "  <th>Df Model:</th>              <td>     1</td>      <th>                     </th>      <td> </td>     \n",
       "</tr>\n",
       "<tr>\n",
       "  <th>Covariance Type:</th>      <td>nonrobust</td>    <th>                     </th>      <td> </td>     \n",
       "</tr>\n",
       "</table>\n",
       "<table class=\"simpletable\">\n",
       "<tr>\n",
       "          <td></td>            <th>coef</th>     <th>std err</th>      <th>t</th>      <th>P>|t|</th>  <th>[0.025</th>    <th>0.975]</th>  \n",
       "</tr>\n",
       "<tr>\n",
       "  <th>Intercept</th>        <td>    4.7236</td> <td>    0.006</td> <td>  727.904</td> <td> 0.000</td> <td>    4.711</td> <td>    4.736</td>\n",
       "</tr>\n",
       "<tr>\n",
       "  <th>tiempo_de_espera</th> <td>   -0.0454</td> <td>    0.000</td> <td> -109.730</td> <td> 0.000</td> <td>   -0.046</td> <td>   -0.045</td>\n",
       "</tr>\n",
       "</table>\n",
       "<table class=\"simpletable\">\n",
       "<tr>\n",
       "  <th>Omnibus:</th>       <td>19552.934</td> <th>  Durbin-Watson:     </th> <td>   2.008</td> \n",
       "</tr>\n",
       "<tr>\n",
       "  <th>Prob(Omnibus):</th>  <td> 0.000</td>   <th>  Jarque-Bera (JB):  </th> <td>35454.407</td>\n",
       "</tr>\n",
       "<tr>\n",
       "  <th>Skew:</th>           <td>-1.300</td>   <th>  Prob(JB):          </th> <td>    0.00</td> \n",
       "</tr>\n",
       "<tr>\n",
       "  <th>Kurtosis:</th>       <td> 4.453</td>   <th>  Cond. No.          </th> <td>    26.1</td> \n",
       "</tr>\n",
       "</table><br/><br/>Notes:<br/>[1] Standard Errors assume that the covariance matrix of the errors is correctly specified."
      ],
      "text/latex": [
       "\\begin{center}\n",
       "\\begin{tabular}{lclc}\n",
       "\\toprule\n",
       "\\textbf{Dep. Variable:}     &  review\\_score   & \\textbf{  R-squared:         } &      0.112   \\\\\n",
       "\\textbf{Model:}             &       OLS        & \\textbf{  Adj. R-squared:    } &      0.112   \\\\\n",
       "\\textbf{Method:}            &  Least Squares   & \\textbf{  F-statistic:       } &  1.204e+04   \\\\\n",
       "\\textbf{Date:}              & Wed, 01 Nov 2023 & \\textbf{  Prob (F-statistic):} &      0.00    \\\\\n",
       "\\textbf{Time:}              &     23:01:10     & \\textbf{  Log-Likelihood:    } & -1.5441e+05  \\\\\n",
       "\\textbf{No. Observations:}  &       95872      & \\textbf{  AIC:               } &  3.088e+05   \\\\\n",
       "\\textbf{Df Residuals:}      &       95870      & \\textbf{  BIC:               } &  3.089e+05   \\\\\n",
       "\\textbf{Df Model:}          &           1      & \\textbf{                     } &              \\\\\n",
       "\\textbf{Covariance Type:}   &    nonrobust     & \\textbf{                     } &              \\\\\n",
       "\\bottomrule\n",
       "\\end{tabular}\n",
       "\\begin{tabular}{lcccccc}\n",
       "                            & \\textbf{coef} & \\textbf{std err} & \\textbf{t} & \\textbf{P$> |$t$|$} & \\textbf{[0.025} & \\textbf{0.975]}  \\\\\n",
       "\\midrule\n",
       "\\textbf{Intercept}          &       4.7236  &        0.006     &   727.904  &         0.000        &        4.711    &        4.736     \\\\\n",
       "\\textbf{tiempo\\_de\\_espera} &      -0.0454  &        0.000     &  -109.730  &         0.000        &       -0.046    &       -0.045     \\\\\n",
       "\\bottomrule\n",
       "\\end{tabular}\n",
       "\\begin{tabular}{lclc}\n",
       "\\textbf{Omnibus:}       & 19552.934 & \\textbf{  Durbin-Watson:     } &     2.008  \\\\\n",
       "\\textbf{Prob(Omnibus):} &    0.000  & \\textbf{  Jarque-Bera (JB):  } & 35454.407  \\\\\n",
       "\\textbf{Skew:}          &   -1.300  & \\textbf{  Prob(JB):          } &      0.00  \\\\\n",
       "\\textbf{Kurtosis:}      &    4.453  & \\textbf{  Cond. No.          } &      26.1  \\\\\n",
       "\\bottomrule\n",
       "\\end{tabular}\n",
       "%\\caption{OLS Regression Results}\n",
       "\\end{center}\n",
       "\n",
       "Notes: \\newline\n",
       " [1] Standard Errors assume that the covariance matrix of the errors is correctly specified."
      ],
      "text/plain": [
       "<class 'statsmodels.iolib.summary.Summary'>\n",
       "\"\"\"\n",
       "                            OLS Regression Results                            \n",
       "==============================================================================\n",
       "Dep. Variable:           review_score   R-squared:                       0.112\n",
       "Model:                            OLS   Adj. R-squared:                  0.112\n",
       "Method:                 Least Squares   F-statistic:                 1.204e+04\n",
       "Date:                Wed, 01 Nov 2023   Prob (F-statistic):               0.00\n",
       "Time:                        23:01:10   Log-Likelihood:            -1.5441e+05\n",
       "No. Observations:               95872   AIC:                         3.088e+05\n",
       "Df Residuals:                   95870   BIC:                         3.089e+05\n",
       "Df Model:                           1                                         \n",
       "Covariance Type:            nonrobust                                         \n",
       "====================================================================================\n",
       "                       coef    std err          t      P>|t|      [0.025      0.975]\n",
       "------------------------------------------------------------------------------------\n",
       "Intercept            4.7236      0.006    727.904      0.000       4.711       4.736\n",
       "tiempo_de_espera    -0.0454      0.000   -109.730      0.000      -0.046      -0.045\n",
       "==============================================================================\n",
       "Omnibus:                    19552.934   Durbin-Watson:                   2.008\n",
       "Prob(Omnibus):                  0.000   Jarque-Bera (JB):            35454.407\n",
       "Skew:                          -1.300   Prob(JB):                         0.00\n",
       "Kurtosis:                       4.453   Cond. No.                         26.1\n",
       "==============================================================================\n",
       "\n",
       "Notes:\n",
       "[1] Standard Errors assume that the covariance matrix of the errors is correctly specified.\n",
       "\"\"\""
      ]
     },
     "execution_count": 54,
     "metadata": {},
     "output_type": "execute_result"
    }
   ],
   "source": [
    "model1.summary()\n"
   ]
  },
  {
   "cell_type": "markdown",
   "metadata": {},
   "source": [
    "\n",
    "El R-cuadrado es 0.112, sugiere que el 11.2% de la variabilidad en \"review_score\" se explica por \"tiempo_de_espera\". \n",
    "\n",
    "El coeficiente de \"tiempo_de_espera\" es -0.0454, lo que significa que, en promedio, por cada unidad de aumento en \"tiempo_de_espera\", la puntuación de revisión (\"review_score\") disminuye en 0.0454 unidades. \n",
    "\n",
    "El valor p asociado con el coeficiente de \"tiempo_de_espera\" es 0.000, significa que es estadísticamente significativo.\n",
    "\n",
    "Los intervalos de confianza para el coeficiente de \"tiempo_de_espera\" son (-0.046, -0.045). significa que con un 95% de confianza, esperaríamos que el verdadero valor del coeficiente caiga dentro de este rango. \n",
    "\n",
    "Con estas estadisticas podemos evaluar la normalidad de los residuos del modelo. En un gráfico de Seaborn, podrías notar la forma y la cola de la distribución de los residuos. \n",
    "\n",
    "Podemos interpretar con este modelo de regresión una relación entre \"tiempo_de_espera\" y las puntuaciones de revisión. Sin embargo, el R-squared relativamente bajo muestra que la variabilidad en las puntuaciones de revisión no se explica  por esta variable independiente."
   ]
  },
  {
   "cell_type": "markdown",
   "metadata": {},
   "source": [
    "***Modelo 2***:"
   ]
  },
  {
   "cell_type": "code",
   "execution_count": 55,
   "metadata": {
    "tags": [
     "challengify"
    ]
   },
   "outputs": [
    {
     "data": {
      "text/html": [
       "<table class=\"simpletable\">\n",
       "<caption>OLS Regression Results</caption>\n",
       "<tr>\n",
       "  <th>Dep. Variable:</th>      <td>review_score</td>   <th>  R-squared:         </th>  <td>   0.077</td>  \n",
       "</tr>\n",
       "<tr>\n",
       "  <th>Model:</th>                   <td>OLS</td>       <th>  Adj. R-squared:    </th>  <td>   0.077</td>  \n",
       "</tr>\n",
       "<tr>\n",
       "  <th>Method:</th>             <td>Least Squares</td>  <th>  F-statistic:       </th>  <td>   7982.</td>  \n",
       "</tr>\n",
       "<tr>\n",
       "  <th>Date:</th>             <td>Wed, 01 Nov 2023</td> <th>  Prob (F-statistic):</th>   <td>  0.00</td>   \n",
       "</tr>\n",
       "<tr>\n",
       "  <th>Time:</th>                 <td>23:01:10</td>     <th>  Log-Likelihood:    </th> <td>-1.5623e+05</td>\n",
       "</tr>\n",
       "<tr>\n",
       "  <th>No. Observations:</th>      <td> 95858</td>      <th>  AIC:               </th>  <td>3.125e+05</td> \n",
       "</tr>\n",
       "<tr>\n",
       "  <th>Df Residuals:</th>          <td> 95856</td>      <th>  BIC:               </th>  <td>3.125e+05</td> \n",
       "</tr>\n",
       "<tr>\n",
       "  <th>Df Model:</th>              <td>     1</td>      <th>                     </th>      <td> </td>     \n",
       "</tr>\n",
       "<tr>\n",
       "  <th>Covariance Type:</th>      <td>nonrobust</td>    <th>                     </th>      <td> </td>     \n",
       "</tr>\n",
       "</table>\n",
       "<table class=\"simpletable\">\n",
       "<tr>\n",
       "          <td></td>            <th>coef</th>     <th>std err</th>      <th>t</th>      <th>P>|t|</th>  <th>[0.025</th>    <th>0.975]</th>  \n",
       "</tr>\n",
       "<tr>\n",
       "  <th>Intercept</th>        <td>    4.2160</td> <td>    0.004</td> <td> 1042.188</td> <td> 0.000</td> <td>    4.208</td> <td>    4.224</td>\n",
       "</tr>\n",
       "<tr>\n",
       "  <th>real_vs_esperado</th> <td>   -0.0752</td> <td>    0.001</td> <td>  -89.341</td> <td> 0.000</td> <td>   -0.077</td> <td>   -0.074</td>\n",
       "</tr>\n",
       "</table>\n",
       "<table class=\"simpletable\">\n",
       "<tr>\n",
       "  <th>Omnibus:</th>       <td>20681.655</td> <th>  Durbin-Watson:     </th> <td>   2.006</td> \n",
       "</tr>\n",
       "<tr>\n",
       "  <th>Prob(Omnibus):</th>  <td> 0.000</td>   <th>  Jarque-Bera (JB):  </th> <td>50302.380</td>\n",
       "</tr>\n",
       "<tr>\n",
       "  <th>Skew:</th>           <td>-1.201</td>   <th>  Prob(JB):          </th> <td>    0.00</td> \n",
       "</tr>\n",
       "<tr>\n",
       "  <th>Kurtosis:</th>       <td> 5.613</td>   <th>  Cond. No.          </th> <td>    4.88</td> \n",
       "</tr>\n",
       "</table><br/><br/>Notes:<br/>[1] Standard Errors assume that the covariance matrix of the errors is correctly specified."
      ],
      "text/latex": [
       "\\begin{center}\n",
       "\\begin{tabular}{lclc}\n",
       "\\toprule\n",
       "\\textbf{Dep. Variable:}     &  review\\_score   & \\textbf{  R-squared:         } &      0.077   \\\\\n",
       "\\textbf{Model:}             &       OLS        & \\textbf{  Adj. R-squared:    } &      0.077   \\\\\n",
       "\\textbf{Method:}            &  Least Squares   & \\textbf{  F-statistic:       } &      7982.   \\\\\n",
       "\\textbf{Date:}              & Wed, 01 Nov 2023 & \\textbf{  Prob (F-statistic):} &      0.00    \\\\\n",
       "\\textbf{Time:}              &     23:01:10     & \\textbf{  Log-Likelihood:    } & -1.5623e+05  \\\\\n",
       "\\textbf{No. Observations:}  &       95858      & \\textbf{  AIC:               } &  3.125e+05   \\\\\n",
       "\\textbf{Df Residuals:}      &       95856      & \\textbf{  BIC:               } &  3.125e+05   \\\\\n",
       "\\textbf{Df Model:}          &           1      & \\textbf{                     } &              \\\\\n",
       "\\textbf{Covariance Type:}   &    nonrobust     & \\textbf{                     } &              \\\\\n",
       "\\bottomrule\n",
       "\\end{tabular}\n",
       "\\begin{tabular}{lcccccc}\n",
       "                            & \\textbf{coef} & \\textbf{std err} & \\textbf{t} & \\textbf{P$> |$t$|$} & \\textbf{[0.025} & \\textbf{0.975]}  \\\\\n",
       "\\midrule\n",
       "\\textbf{Intercept}          &       4.2160  &        0.004     &  1042.188  &         0.000        &        4.208    &        4.224     \\\\\n",
       "\\textbf{real\\_vs\\_esperado} &      -0.0752  &        0.001     &   -89.341  &         0.000        &       -0.077    &       -0.074     \\\\\n",
       "\\bottomrule\n",
       "\\end{tabular}\n",
       "\\begin{tabular}{lclc}\n",
       "\\textbf{Omnibus:}       & 20681.655 & \\textbf{  Durbin-Watson:     } &     2.006  \\\\\n",
       "\\textbf{Prob(Omnibus):} &    0.000  & \\textbf{  Jarque-Bera (JB):  } & 50302.380  \\\\\n",
       "\\textbf{Skew:}          &   -1.201  & \\textbf{  Prob(JB):          } &      0.00  \\\\\n",
       "\\textbf{Kurtosis:}      &    5.613  & \\textbf{  Cond. No.          } &      4.88  \\\\\n",
       "\\bottomrule\n",
       "\\end{tabular}\n",
       "%\\caption{OLS Regression Results}\n",
       "\\end{center}\n",
       "\n",
       "Notes: \\newline\n",
       " [1] Standard Errors assume that the covariance matrix of the errors is correctly specified."
      ],
      "text/plain": [
       "<class 'statsmodels.iolib.summary.Summary'>\n",
       "\"\"\"\n",
       "                            OLS Regression Results                            \n",
       "==============================================================================\n",
       "Dep. Variable:           review_score   R-squared:                       0.077\n",
       "Model:                            OLS   Adj. R-squared:                  0.077\n",
       "Method:                 Least Squares   F-statistic:                     7982.\n",
       "Date:                Wed, 01 Nov 2023   Prob (F-statistic):               0.00\n",
       "Time:                        23:01:10   Log-Likelihood:            -1.5623e+05\n",
       "No. Observations:               95858   AIC:                         3.125e+05\n",
       "Df Residuals:                   95856   BIC:                         3.125e+05\n",
       "Df Model:                           1                                         \n",
       "Covariance Type:            nonrobust                                         \n",
       "====================================================================================\n",
       "                       coef    std err          t      P>|t|      [0.025      0.975]\n",
       "------------------------------------------------------------------------------------\n",
       "Intercept            4.2160      0.004   1042.188      0.000       4.208       4.224\n",
       "real_vs_esperado    -0.0752      0.001    -89.341      0.000      -0.077      -0.074\n",
       "==============================================================================\n",
       "Omnibus:                    20681.655   Durbin-Watson:                   2.006\n",
       "Prob(Omnibus):                  0.000   Jarque-Bera (JB):            50302.380\n",
       "Skew:                          -1.201   Prob(JB):                         0.00\n",
       "Kurtosis:                       5.613   Cond. No.                         4.88\n",
       "==============================================================================\n",
       "\n",
       "Notes:\n",
       "[1] Standard Errors assume that the covariance matrix of the errors is correctly specified.\n",
       "\"\"\""
      ]
     },
     "execution_count": 55,
     "metadata": {},
     "output_type": "execute_result"
    }
   ],
   "source": [
    "model2.summary()\n",
    "\n",
    "# Programar acá"
   ]
  },
  {
   "cell_type": "markdown",
   "metadata": {},
   "source": [
    "\n",
    "Los resultados de la regresión muestran que hay una relación entre la variable independiente \"real_vs_esperado\" y las puntuaciones de revisión (\"review_score\"). \n",
    "El R-squared es bajo (7.7%), indica que solo una pequeña parte de la variabilidad en las puntuaciones de revisión se explica por esta variable. El coeficiente para \"real_vs_esperado\" es -0.0752, podemos interprestar que en promedio, por cada unidad de cambio en \"real_vs_esperado\", la puntuación de revisión disminuye en 0.0752 unidades. Ambos coeficientes son significativos con valores p creca a cero. "
   ]
  },
  {
   "cell_type": "markdown",
   "metadata": {},
   "source": [
    "## 2 - Multivariate regression"
   ]
  },
  {
   "cell_type": "markdown",
   "metadata": {},
   "source": [
    "***responder***\n",
    "¿Cual es el impacto en `review_score` agregando un día más de `real_vs_esperado` manteniendo todo lo otro constante? ¿Cuál es más explicativa de `review_score`,`tiempo_de_espera` o `real_vs_esperado` ?\n",
    "\n"
   ]
  },
  {
   "cell_type": "markdown",
   "metadata": {},
   "source": [
    "***Modelo 3***:"
   ]
  },
  {
   "cell_type": "code",
   "execution_count": 56,
   "metadata": {},
   "outputs": [],
   "source": [
    "model3 = smf.ols(formula='review_score ~ tiempo_de_espera + real_vs_esperado ',data=orders)\n"
   ]
  },
  {
   "cell_type": "code",
   "execution_count": 57,
   "metadata": {},
   "outputs": [],
   "source": [
    "model3=model3.fit()\n"
   ]
  },
  {
   "cell_type": "code",
   "execution_count": 58,
   "metadata": {},
   "outputs": [
    {
     "data": {
      "text/html": [
       "<table class=\"simpletable\">\n",
       "<caption>OLS Regression Results</caption>\n",
       "<tr>\n",
       "  <th>Dep. Variable:</th>      <td>review_score</td>   <th>  R-squared:         </th>  <td>   0.115</td>  \n",
       "</tr>\n",
       "<tr>\n",
       "  <th>Model:</th>                   <td>OLS</td>       <th>  Adj. R-squared:    </th>  <td>   0.115</td>  \n",
       "</tr>\n",
       "<tr>\n",
       "  <th>Method:</th>             <td>Least Squares</td>  <th>  F-statistic:       </th>  <td>   6222.</td>  \n",
       "</tr>\n",
       "<tr>\n",
       "  <th>Date:</th>             <td>Wed, 01 Nov 2023</td> <th>  Prob (F-statistic):</th>   <td>  0.00</td>   \n",
       "</tr>\n",
       "<tr>\n",
       "  <th>Time:</th>                 <td>23:01:10</td>     <th>  Log-Likelihood:    </th> <td>-1.5422e+05</td>\n",
       "</tr>\n",
       "<tr>\n",
       "  <th>No. Observations:</th>      <td> 95858</td>      <th>  AIC:               </th>  <td>3.084e+05</td> \n",
       "</tr>\n",
       "<tr>\n",
       "  <th>Df Residuals:</th>          <td> 95855</td>      <th>  BIC:               </th>  <td>3.085e+05</td> \n",
       "</tr>\n",
       "<tr>\n",
       "  <th>Df Model:</th>              <td>     2</td>      <th>                     </th>      <td> </td>     \n",
       "</tr>\n",
       "<tr>\n",
       "  <th>Covariance Type:</th>      <td>nonrobust</td>    <th>                     </th>      <td> </td>     \n",
       "</tr>\n",
       "</table>\n",
       "<table class=\"simpletable\">\n",
       "<tr>\n",
       "          <td></td>            <th>coef</th>     <th>std err</th>      <th>t</th>      <th>P>|t|</th>  <th>[0.025</th>    <th>0.975]</th>  \n",
       "</tr>\n",
       "<tr>\n",
       "  <th>Intercept</th>        <td>    4.6432</td> <td>    0.008</td> <td>  599.481</td> <td> 0.000</td> <td>    4.628</td> <td>    4.658</td>\n",
       "</tr>\n",
       "<tr>\n",
       "  <th>tiempo_de_espera</th> <td>   -0.0376</td> <td>    0.001</td> <td>  -64.179</td> <td> 0.000</td> <td>   -0.039</td> <td>   -0.036</td>\n",
       "</tr>\n",
       "<tr>\n",
       "  <th>real_vs_esperado</th> <td>   -0.0221</td> <td>    0.001</td> <td>  -18.944</td> <td> 0.000</td> <td>   -0.024</td> <td>   -0.020</td>\n",
       "</tr>\n",
       "</table>\n",
       "<table class=\"simpletable\">\n",
       "<tr>\n",
       "  <th>Omnibus:</th>       <td>20038.300</td> <th>  Durbin-Watson:     </th> <td>   2.008</td> \n",
       "</tr>\n",
       "<tr>\n",
       "  <th>Prob(Omnibus):</th>  <td> 0.000</td>   <th>  Jarque-Bera (JB):  </th> <td>41107.951</td>\n",
       "</tr>\n",
       "<tr>\n",
       "  <th>Skew:</th>           <td>-1.244</td>   <th>  Prob(JB):          </th> <td>    0.00</td> \n",
       "</tr>\n",
       "<tr>\n",
       "  <th>Kurtosis:</th>       <td> 5.024</td>   <th>  Cond. No.          </th> <td>    31.8</td> \n",
       "</tr>\n",
       "</table><br/><br/>Notes:<br/>[1] Standard Errors assume that the covariance matrix of the errors is correctly specified."
      ],
      "text/latex": [
       "\\begin{center}\n",
       "\\begin{tabular}{lclc}\n",
       "\\toprule\n",
       "\\textbf{Dep. Variable:}     &  review\\_score   & \\textbf{  R-squared:         } &      0.115   \\\\\n",
       "\\textbf{Model:}             &       OLS        & \\textbf{  Adj. R-squared:    } &      0.115   \\\\\n",
       "\\textbf{Method:}            &  Least Squares   & \\textbf{  F-statistic:       } &      6222.   \\\\\n",
       "\\textbf{Date:}              & Wed, 01 Nov 2023 & \\textbf{  Prob (F-statistic):} &      0.00    \\\\\n",
       "\\textbf{Time:}              &     23:01:10     & \\textbf{  Log-Likelihood:    } & -1.5422e+05  \\\\\n",
       "\\textbf{No. Observations:}  &       95858      & \\textbf{  AIC:               } &  3.084e+05   \\\\\n",
       "\\textbf{Df Residuals:}      &       95855      & \\textbf{  BIC:               } &  3.085e+05   \\\\\n",
       "\\textbf{Df Model:}          &           2      & \\textbf{                     } &              \\\\\n",
       "\\textbf{Covariance Type:}   &    nonrobust     & \\textbf{                     } &              \\\\\n",
       "\\bottomrule\n",
       "\\end{tabular}\n",
       "\\begin{tabular}{lcccccc}\n",
       "                            & \\textbf{coef} & \\textbf{std err} & \\textbf{t} & \\textbf{P$> |$t$|$} & \\textbf{[0.025} & \\textbf{0.975]}  \\\\\n",
       "\\midrule\n",
       "\\textbf{Intercept}          &       4.6432  &        0.008     &   599.481  &         0.000        &        4.628    &        4.658     \\\\\n",
       "\\textbf{tiempo\\_de\\_espera} &      -0.0376  &        0.001     &   -64.179  &         0.000        &       -0.039    &       -0.036     \\\\\n",
       "\\textbf{real\\_vs\\_esperado} &      -0.0221  &        0.001     &   -18.944  &         0.000        &       -0.024    &       -0.020     \\\\\n",
       "\\bottomrule\n",
       "\\end{tabular}\n",
       "\\begin{tabular}{lclc}\n",
       "\\textbf{Omnibus:}       & 20038.300 & \\textbf{  Durbin-Watson:     } &     2.008  \\\\\n",
       "\\textbf{Prob(Omnibus):} &    0.000  & \\textbf{  Jarque-Bera (JB):  } & 41107.951  \\\\\n",
       "\\textbf{Skew:}          &   -1.244  & \\textbf{  Prob(JB):          } &      0.00  \\\\\n",
       "\\textbf{Kurtosis:}      &    5.024  & \\textbf{  Cond. No.          } &      31.8  \\\\\n",
       "\\bottomrule\n",
       "\\end{tabular}\n",
       "%\\caption{OLS Regression Results}\n",
       "\\end{center}\n",
       "\n",
       "Notes: \\newline\n",
       " [1] Standard Errors assume that the covariance matrix of the errors is correctly specified."
      ],
      "text/plain": [
       "<class 'statsmodels.iolib.summary.Summary'>\n",
       "\"\"\"\n",
       "                            OLS Regression Results                            \n",
       "==============================================================================\n",
       "Dep. Variable:           review_score   R-squared:                       0.115\n",
       "Model:                            OLS   Adj. R-squared:                  0.115\n",
       "Method:                 Least Squares   F-statistic:                     6222.\n",
       "Date:                Wed, 01 Nov 2023   Prob (F-statistic):               0.00\n",
       "Time:                        23:01:10   Log-Likelihood:            -1.5422e+05\n",
       "No. Observations:               95858   AIC:                         3.084e+05\n",
       "Df Residuals:                   95855   BIC:                         3.085e+05\n",
       "Df Model:                           2                                         \n",
       "Covariance Type:            nonrobust                                         \n",
       "====================================================================================\n",
       "                       coef    std err          t      P>|t|      [0.025      0.975]\n",
       "------------------------------------------------------------------------------------\n",
       "Intercept            4.6432      0.008    599.481      0.000       4.628       4.658\n",
       "tiempo_de_espera    -0.0376      0.001    -64.179      0.000      -0.039      -0.036\n",
       "real_vs_esperado    -0.0221      0.001    -18.944      0.000      -0.024      -0.020\n",
       "==============================================================================\n",
       "Omnibus:                    20038.300   Durbin-Watson:                   2.008\n",
       "Prob(Omnibus):                  0.000   Jarque-Bera (JB):            41107.951\n",
       "Skew:                          -1.244   Prob(JB):                         0.00\n",
       "Kurtosis:                       5.024   Cond. No.                         31.8\n",
       "==============================================================================\n",
       "\n",
       "Notes:\n",
       "[1] Standard Errors assume that the covariance matrix of the errors is correctly specified.\n",
       "\"\"\""
      ]
     },
     "execution_count": 58,
     "metadata": {},
     "output_type": "execute_result"
    }
   ],
   "source": [
    "model3.summary()\n"
   ]
  },
  {
   "cell_type": "markdown",
   "metadata": {},
   "source": [
    "Nuestra regresión multivariante nos permite aislar el impacto de una característica, mientras controlamos el efecto de otras características. Estos nuevos coeficientes se denominan **`coeficientes de correlación parcial`**."
   ]
  },
  {
   "cell_type": "markdown",
   "metadata": {},
   "source": [
    " R-squared es bastante bajo: no más del 12 % de las variaciones de review_score se explican por las variaciones combinadas de `tiempo_de_espera` y `real_vs_esperado`.\n",
    "\n",
    "Intentemos agregar más variables a nuestra regresión para mejorar la explicabilidad de la regresión lineal.\n",
    "\n",
    "Crear un nuevo OLS `model4` con más características del conjunto de datos `orders`.\n",
    "- No agregar dos características perfectamente colineales entre sí\n",
    "-  Transformar cada variables $X_i$ con el respectivo z-score $Z_i = \\frac{X_i - \\mu_i}{\\sigma_i}$  para comparar los coeficientes de regresión parcial $\\beta_i$ en conjuntos.  $\\beta_i$ no estará en la misma dimensión."
   ]
  },
  {
   "cell_type": "markdown",
   "metadata": {},
   "source": [
    "Para evaluar el impacto en `review_score` al agregar un día más a la variable `real_vs_esperado` manteniendo todas las demás variables constantes en este nuevo modelo, se puede utilizar el coeficiente de regresión de `real_vs_esperado`. El coeficiente de `real_vs_esperado` es -0.0221. En promedio, por cada día adicional de `real_vs_esperado`, la puntuación de revisión disminuye en 0.0221 unidades en este modelo.\n",
    "\n",
    "Agregar un día más a la variable `real_vs_esperado` tiene un impacto negativo de aproximadamente -0.0221 unidades en `review_score` en este nuevo modelo. Además, el modelo que incluye tanto `tiempo_de_espera` como `real_vs_esperado` es  más explicativo de `review_score` en comparación con los modelos que consideraban solo una de las dos variables. Sin embargo, el R-squared sigue siendo bajo, esto propone que otros factores también influyan en las puntuaciones de revisión."
   ]
  },
  {
   "cell_type": "markdown",
   "metadata": {},
   "source": [
    "***Modelo 4***:"
   ]
  },
  {
   "cell_type": "markdown",
   "metadata": {},
   "source": [
    "¿Que variables considerar?"
   ]
  },
  {
   "cell_type": "code",
   "execution_count": 59,
   "metadata": {
    "collapsed": false
   },
   "outputs": [
    {
     "data": {
      "text/plain": [
       "Index(['Unnamed: 0', 'order_id', 'customer_id', 'order_status',\n",
       "       'order_purchase_timestamp', 'order_approved_at',\n",
       "       'order_delivered_carrier_date', 'order_delivered_customer_date',\n",
       "       'order_estimated_delivery_date', 'tiempo_de_espera',\n",
       "       'tiempo_de_espera_previsto', 'real_vs_esperado', 'review_id',\n",
       "       'review_score', 'review_comment_title', 'review_comment_message',\n",
       "       'review_creation_date', 'review_answer_timestamp', 'es_cinco_estrellas',\n",
       "       'es_una_estrella', 'count_order_items', 'seller_id', 'price',\n",
       "       'freight_value', 'distancia_a_la_orden'],\n",
       "      dtype='object')"
      ]
     },
     "execution_count": 59,
     "metadata": {},
     "output_type": "execute_result"
    }
   ],
   "source": [
    "orders.columns"
   ]
  },
  {
   "cell_type": "markdown",
   "metadata": {},
   "source": [
    "Crear el `modelo4`"
   ]
  },
  {
   "cell_type": "code",
   "execution_count": 60,
   "metadata": {
    "tags": [
     "delete"
    ]
   },
   "outputs": [
    {
     "data": {
      "text/plain": [
       "'review_score ~ tiempo_de_espera + real_vs_esperado + number_of_products + seller_id + price + freight_value + distancia_a_la_orden'"
      ]
     },
     "execution_count": 60,
     "metadata": {},
     "output_type": "execute_result"
    }
   ],
   "source": [
    "formula = \"review_score ~ \" + ' + '.join(features)\n",
    "formula"
   ]
  },
  {
   "cell_type": "code",
   "execution_count": 61,
   "metadata": {
    "tags": [
     "challengify"
    ]
   },
   "outputs": [],
   "source": [
    "#"
   ]
  },
  {
   "cell_type": "markdown",
   "metadata": {},
   "source": [
    "---\n",
    "- ¿Cuáles son las características más importantes? (hacer un gráfico de barras para visualizarlos bien)\n",
    "- ¿Cómo ha cambiado el rendimiento general de la regresión?\n",
    "- ¿Es esta regresión estadísticamente significativa?"
   ]
  },
  {
   "cell_type": "code",
   "execution_count": 62,
   "metadata": {
    "tags": [
     "challengify"
    ]
   },
   "outputs": [],
   "source": [
    "#"
   ]
  },
  {
   "cell_type": "markdown",
   "metadata": {},
   "source": [
    "\n",
    "- ¿Cual es la variable que más impacto tiene?\n",
    "- qué pasa con productos y vendedores cuando hay más?\n",
    "- Que pasa con la distancia?\n",
    "- Que pasa con precio y transporte?\n",
    "    \n",
    "- Qué pasa con F-statistics y p-value?\n",
    "\n",
    "- Analizar R cuadrado\n",
    "\n",
    "Un R cuadrado bajo es común cuando el número de observaciones (n) es mucho mayor que el número de características (p). Todavía se pueden derivar ideas relevantes de tales regresiones, siempre que sean estadísticamente significativas.\n",
    "\n",
    "\n",
    "\n"
   ]
  },
  {
   "cell_type": "markdown",
   "metadata": {},
   "source": [
    "## 3 - Chequear la performance de modelos"
   ]
  },
  {
   "cell_type": "markdown",
   "metadata": {},
   "source": [
    "¡El rendimiento de la regresión no debe medirse solo por su R-cuadrado!\n",
    "\n",
    "Siempre visualice la distribución de las predicciones, y especialmente los residuales.\n",
    "\n",
    "* Calcular los residuos.\n",
    "\n",
    "Debería ver que la media de los residuos es igual a 0 (siempre verificado en un contexto de regresión lineal)"
   ]
  },
  {
   "cell_type": "markdown",
   "metadata": {},
   "source": [
    "Computar rmse"
   ]
  },
  {
   "cell_type": "code",
   "execution_count": 63,
   "metadata": {
    "tags": [
     "challengify"
    ]
   },
   "outputs": [],
   "source": [
    "##codear RMS (Buscar en wikipedia)"
   ]
  },
  {
   "cell_type": "markdown",
   "metadata": {},
   "source": [
    "Plotear los resultados"
   ]
  },
  {
   "cell_type": "code",
   "execution_count": null,
   "metadata": {
    "tags": [
     "challengify"
    ]
   },
   "outputs": [],
   "source": []
  },
  {
   "cell_type": "markdown",
   "metadata": {},
   "source": [
    "* ¿Por qué la trama residual tiene una forma tan extraña?\n",
    "\n",
    "Plotea en el mismo gráfico tanto la distribución de `review_score` como la distribución de `predicted_review_score`."
   ]
  },
  {
   "cell_type": "code",
   "execution_count": null,
   "metadata": {
    "tags": [
     "challengify"
    ]
   },
   "outputs": [],
   "source": []
  },
  {
   "cell_type": "markdown",
   "metadata": {},
   "source": [
    "Usando `seaborn`, ya podríamos haber trazado una `línea de regresión` de `review_score` frente a `real_vs_esperado`\n",
    "\n",
    "Hacelo con una sub-`muestra` de la población, y una vez con la `toda la población`."
   ]
  },
  {
   "cell_type": "code",
   "execution_count": null,
   "metadata": {
    "tags": [
     "challengify"
    ]
   },
   "outputs": [],
   "source": []
  }
 ],
 "metadata": {
  "kernelspec": {
   "display_name": "Python 3",
   "language": "python",
   "name": "python3"
  },
  "language_info": {
   "codemirror_mode": {
    "name": "ipython",
    "version": 3
   },
   "file_extension": ".py",
   "mimetype": "text/x-python",
   "name": "python",
   "nbconvert_exporter": "python",
   "pygments_lexer": "ipython3",
   "version": "3.11.5"
  }
 },
 "nbformat": 4,
 "nbformat_minor": 4
}
