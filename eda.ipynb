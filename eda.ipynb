{
 "cells": [
  {
   "cell_type": "code",
   "execution_count": 2,
   "id": "initial_id",
   "metadata": {
    "ExecuteTime": {
     "end_time": "2023-10-19T09:56:06.201945100Z",
     "start_time": "2023-10-19T09:56:06.155052300Z"
    },
    "collapsed": true
   },
   "outputs": [],
   "source": [
    "import pandas as pd\n",
    "import os\n",
    "\n",
    "def normalize_name(filename):\n",
    "    return filename.replace(\"olist_\", \"\").replace(\"_dataset\", \"\").replace(\".csv\", \"\")\n",
    "def load_all_data(path):\n",
    "    ''' read all datasets in folder and usea as name'''\n",
    "    files = [f for f in os.listdir(path) if f.endswith(\".csv\")]\n",
    "    data = {normalize_name(filename): pd.read_csv(f\"{path}/{filename}\") for filename in files}\n",
    "    return data"
   ]
  },
  {
   "cell_type": "code",
   "execution_count": null,
   "id": "6b2630a6d1546e21",
   "metadata": {
    "collapsed": false
   },
   "outputs": [],
   "source": []
  }
 ],
 "metadata": {
  "kernelspec": {
   "display_name": "Python 3",
   "language": "python",
   "name": "python3"
  },
  "language_info": {
   "codemirror_mode": {
    "name": "ipython",
    "version": 3
   },
   "file_extension": ".py",
   "mimetype": "text/x-python",
   "name": "python",
   "nbconvert_exporter": "python",
   "pygments_lexer": "ipython3",
   "version": "3.11.5"
  }
 },
 "nbformat": 4,
 "nbformat_minor": 5
}
